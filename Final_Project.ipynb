import dataclasses
import re
from selenium.common.exceptions import NoSuchElementException, ElementClickInterceptedException
from selenium import webdriver
from selenium.webdriver import ActionChains
from selenium.webdriver.chrome.service import Service
from selenium.webdriver.common.by import By
from selenium.webdriver.support.ui import WebDriverWait
from selenium.webdriver.support import expected_conditions as EC
import time
import pandas as pd
from tqdm import tqdm


path = r"C:\Users\tomer\Downloads\chromedriver_win32 (2)\chromedriver.exe"
options = webdriver.ChromeOptions()
options.add_argument('--headless')
driver = webdriver.Chrome(path, options=options)


@dataclasses.dataclass
class Category:
    id: str
    is_hitech: bool


job_list = []  # List of all jobs in the website
job_types_list = []  # List to store job types for each job
job_descriptions = []  # List of all job descriptions in the website
job_locations_list = []  # List of all job locations in the website
job_required_skills_list = []  # List of all job required skills in the website
job_company_names = []  # List of all job company names in the website
job_titles = []  # List of all job titles in the website
is_hitech = [] #Boolean catgory that hold job category


# Function to close the ad by clicking the close button
def close_ads():
    # Find all ad elements on the page
    ad_elements = driver.find_elements(By.XPATH, './/div[contains(@class, "ad-element")]')

    for ad_element in ad_elements:
        # Check if it's the 'job-sendcv-loginorregister' ad
        if 'job-sendcv-loginorregister' in ad_element.get_attribute('outerHTML'):
            # Find the close button element and click on it
            close_button = ad_element.find_element(By.XPATH, './/img[@class="close-button"]')
            close_button.click()

        # Check if it's the 'ZA_CAMP_DIV_1_INNER' ad
        elif 'ZA_CAMP_DIV_1_INNER' in ad_element.get_attribute('outerHTML'):
            # Find the close button element and click on it
            close_button = ad_element.find_element(By.XPATH, './/button[@id="ZA_CAMP_CLOSE_BUTTON"]')
            close_button.click()




wait = WebDriverWait(driver, 10)  # Adjust the wait time as needed



categories = [Category(id="431", is_hitech=True),
              Category(id="236", is_hitech=True),
              Category(id="320", is_hitech=True),
              Category(id="1806", is_hitech=True),
              Category(id="969", is_hitech=True),
              Category(id="330", is_hitech=True),
              Category(id="357", is_hitech=True),
              Category(id="1541", is_hitech=True),
              Category(id="235", is_hitech=True),

              Category(id="776", is_hitech=False),
              Category(id="262", is_hitech=False),
              Category(id="278", is_hitech=False),
              Category(id="292", is_hitech=False),
              Category(id="299", is_hitech=False),
              Category(id="449", is_hitech=False),
              Category(id="1380", is_hitech=False),
              Category(id="366", is_hitech=False),
              Category(id="722", is_hitech=False),
              Category(id="383", is_hitech=False),
              Category(id="644", is_hitech=False),
              Category(id="469", is_hitech=False),
              Category(id="442", is_hitech=False),
              Category(id="1464", is_hitech=False),
              Category(id="442", is_hitech=False),
              Category(id="527", is_hitech=False),
              Category(id="552", is_hitech=False),
              Category(id="594", is_hitech=False),
              Category(id="576", is_hitech=False),
              Category(id="634", is_hitech=False),
              Category(id="609", is_hitech=False),
              Category(id="627", is_hitech=False),
              Category(id="1805", is_hitech=False),
              Category(id="1637", is_hitech=False),
              Category(id="493", is_hitech=False)]



def extract_number(string):
    pattern = r'\d{1,3}(?:,\d{3})*(?:\.\d+)?'  # Regex pattern to match numbers with or without commas

    matches = re.findall(pattern, string)
    numbers = [float(match.replace(',', '')) for match in matches]
    if numbers:
        return numbers[-1]
    else:
        return 1


def get_page_count(initial_url):
    driver.get(initial_url)
    driver.implicitly_wait(0)
    driver.maximize_window()

    # Check for ads and close them if found
    close_ads()

    page_count = driver.find_element(By.XPATH, './/div[@id="search_bar_title"]')
    return int(extract_number(page_count.text) // 15)

# Loop through the pages
for category in categories:
    initial_url = f"https://www.alljobs.co.il/SearchResultsGuest.aspx?position={category.id}"
    page_count = get_page_count(initial_url)
    # Loop through the pages
    for page in tqdm(range(1, page_count + 1), desc=f"{category.id}'s Pages"):
        url = f"https://www.alljobs.co.il/SearchResultsGuest.aspx?position={category.id}page={page}"
        time.sleep(1)
        driver.get(url)
        driver.implicitly_wait(0)
        driver.maximize_window()

        # Find job elements
        job_elements = driver.find_elements(By.CSS_SELECTOR, '#divOpenBoardContainer .job-content-top')

        # Extract the text from the job elements
        for job_element in job_elements:
            # Check if the job element contains the ad
            if 'job-sendcv-loginorregister' in job_element.get_attribute(
                    'outerHTML') or 'ZA_CAMP_DIV_1_INNER' in job_element.get_attribute('outerHTML'):
                # Close the ad by clicking the close button
                close_ads()
                continue  # Skip the ad job element and continue with the next job element

            # Extract job types
            try:
                job_type_button = job_element.find_element(By.CSS_SELECTOR, '.job-content-top-type span.job-arrow-db,'
                                                                            '.job-content-top-type-ltr span.job-arrow-db')
                driver.execute_script("arguments[0].click();", job_type_button)
                job_types = job_element.find_elements(By.CSS_SELECTOR, '.job-content-top-type .job-types-content > div,'
                                                                       '.job-content-top-type-ltr .job-types-content > div')
                job_types = [job_type.text for job_type in job_types]

            except NoSuchElementException:
                # Handle case where job types are directly displayed
                try:
                    job_type_element = job_element.find_element(By.CSS_SELECTOR, '.job-content-top-type,'
                                                                                 '.job-content-top-type-ltr')
                    job_types = [job_type_element.text.split(': ')[1]]
                except (NoSuchElementException, IndexError):
                    job_types = ""

            # Extract job description
            try:
                job_description = job_element.find_element(By.CSS_SELECTOR, '.job-content-top-desc.AR.RTL,'
                                                                            '.job-content-top-desc.AL.LTR').text
            except NoSuchElementException:
                job_description = ""

            # Extract job location
            try:
                job_location_button = job_element.find_element(By.CSS_SELECTOR, '.job-content-top-location'
                                                                                ' span.job-arrow-db,'
                                                                                '.job-content-top-location-ltr'
                                                                                ' span.job-arrow-db')
                driver.execute_script("arguments[0].click();", job_location_button)
                time.sleep(0.3)
                job_locations = job_element.find_elements(By.CSS_SELECTOR, '.job-content-top-location'
                                                                           ' .job-regions-content > div,'
                                                                           ' .job-content-top-location-ltr'
                                                                           ' .job-regions-content > div')
                job_locations = [job_location.text for job_location in job_locations]
            except NoSuchElementException:
                # Handle case where job locations are directly displayed
                try:
                    try:
                        job_location_element = job_element.find_element(By.CSS_SELECTOR, '.job-content-top-location')
                        job_locations = [job_location_element.find_element(By.CSS_SELECTOR, 'a').text]
                    except:
                        job_location_element = job_element.find_element(By.CSS_SELECTOR,
                                                                        '.job-content-top-location-ltr')
                        job_locations = [job_location_element.find_element(By.CSS_SELECTOR, 'a').text]
                except NoSuchElementException:
                    job_locations = ""

            # Extract job required skills
            try:
                show_more_button = job_element.find_element(By.CSS_SELECTOR, '.job-content-top-moretext,'
                                                                             '.job-content-top-moretext-ltr')
                driver.execute_script("arguments[0].click();", show_more_button)
                time.sleep(0.1)
                # Extract job required skills
                job_required_skills_element = job_element.find_element(By.XPATH,
                                                                       './/div[contains(.//b, "Requirements:") or contains(.//b, "דרישות:")]')
                job_required_skills_text = job_required_skills_element.text
            except NoSuchElementException:
                job_required_skills_text = ""

            # Extract job company name
            try:
                job_company_name = job_element.find_element(By.CSS_SELECTOR, '.T14 > a').text
            except NoSuchElementException:
                job_company_name = ""
                # Handle case where job company names are directly displayed
                try:
                    job_company_element = job_element.find_element(By.CSS_SELECTOR, '.T14')
                    job_company_name = job_company_element.text
                except (NoSuchElementException, IndexError):
                    job_company_name = ""
            try:
                job_title_element = job_element.find_element(By.CSS_SELECTOR,
                                                             '.job-content-top-title h3, .job-content-top-title-ltr h3,.job-content-top-title-highlight h3')
                job_title = job_title_element.text.strip()
            except NoSuchElementException:
                job_title = ""

            job_list.append(job_element.text)  # Add job to the list
            job_types_list.append(job_types)  # Add job types to the list
            job_descriptions.append(job_description)  # Add job description to the list
            job_locations_list.append(job_locations)  # Add job location to the list
            job_required_skills_list.append(job_required_skills_text)  # Add job required skills to the list
            job_company_names.append(job_company_name)  # Add job company name to the list
            job_titles.append(job_title)  # Add job title to the list
            is_hitech.append(category.is_hitech)

        # Find the next button element
        next_button = driver.find_element(By.CSS_SELECTOR, '.jobs-paging-next')

        try:
            # Scroll to the next button to ensure it's clickable
            actions = ActionChains(driver)
            actions.move_to_element(next_button).perform()
            # Click the next button to navigate to the next page
            next_button.click()
        except ElementClickInterceptedException:
            # Handle case where the next button is intercepted by an overlay element
            overlay_element = driver.find_element(By.CSS_SELECTOR, '#cboxOverlay')
            # Close the overlay element by clicking the close button
            try:
                close_button = wait.until(EC.element_to_be_clickable((By.CSS_SELECTOR, '.close')))
                close_button.click()
                # Retry clicking the next button
                next_button.click()
            except NoSuchElementException:
                print("Unable to locate close button element.")
                break  # Exit the loop if the close button element is not found

# Close the browser
driver.quit()

# Create a dictionary with the collected data
data = {
    'Job Title': job_titles,
    'Job Type': job_types_list,
    'Job Description': job_descriptions,
    'Job Locations': job_locations_list,
    'Job Required Skills': job_required_skills_list,
    'Job Company Name': job_company_names,
    'Is HiTech': is_hitech
}
# Create a DataFrame from the data dictionary
df = pd.DataFrame(data)
df.to_csv('Scraped_job_df.csv', index=False, encoding='utf-8-sig')


